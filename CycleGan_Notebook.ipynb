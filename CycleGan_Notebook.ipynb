{
 "cells": [
  {
   "cell_type": "code",
   "execution_count": 4,
   "metadata": {},
   "outputs": [],
   "source": [
    "import tensorflow as tf\n"
   ]
  },
  {
   "cell_type": "code",
   "execution_count": 5,
   "metadata": {},
   "outputs": [
    {
     "data": {
      "text/plain": [
       "[PhysicalDevice(name='/physical_device:GPU:0', device_type='GPU')]"
      ]
     },
     "execution_count": 5,
     "metadata": {},
     "output_type": "execute_result"
    }
   ],
   "source": [
    "tf.config.list_physical_devices('GPU')"
   ]
  },
  {
   "cell_type": "code",
   "execution_count": 6,
   "metadata": {},
   "outputs": [],
   "source": [
    "import kaggle"
   ]
  },
  {
   "cell_type": "code",
   "execution_count": 7,
   "metadata": {},
   "outputs": [
    {
     "name": "stdout",
     "output_type": "stream",
     "text": [
      "ref                                                     title                                           size  lastUpdated          downloadCount  voteCount  usabilityRating  \n",
      "------------------------------------------------------  ---------------------------------------------  -----  -------------------  -------------  ---------  ---------------  \n",
      "uciml/iris                                              Iris Species                                     4KB  2016-09-27 07:38:05         239188       2757  0.7941176        \n",
      "arshid/iris-flower-dataset                              Iris Flower Dataset                            1010B  2018-03-22 15:18:06          43068        391  0.8235294        \n",
      "vikrishnan/iris-dataset                                 Iris Dataset                                    999B  2017-08-03 16:00:44           3108         26  0.7647059        \n",
      "therohk/ireland-historical-news                         Irish Times - Waxy-Wany News                    52MB  2021-09-25 10:52:48           3012        158  1.0              \n",
      "chuckyin/iris-datasets                                  Iris datasets                                    1KB  2017-03-10 09:35:43           1853         14  0.7352941        \n",
      "rtatman/iris-dataset-json-version                       Iris Dataset (JSON Version)                      1KB  2018-04-06 20:21:31           6021         46  0.75             \n",
      "parulpandey/palmer-archipelago-antarctica-penguin-data  Palmer Archipelago (Antarctica) penguin data    11KB  2020-06-09 10:14:54          12368        125  0.9705882        \n",
      "fleanend/birds-songs-numeric-dataset                    Birds' Songs Numeric Dataset                    25MB  2019-04-01 09:09:46            750         25  0.9411765        \n",
      "conorrot/irish-weather-hourly-data                      Irish Weather (hourly data)                     67MB  2020-06-29 20:15:18           1946         42  0.8235294        \n",
      "saurabh00007/iriscsv                                    Iris.csv                                         1KB  2017-11-09 07:34:35          18844         63  0.4117647        \n",
      "jillanisofttech/iris-dataset-uci                        Iris dataset uci                                 1KB  2021-11-06 15:11:47             54         12  1.0              \n",
      "jeffheaton/iris-computer-vision                         Iris Computer Vision                             5MB  2020-11-24 21:23:29            353         10  0.875            \n",
      "kamrankausar/iris-data                                  iris_data                                        1KB  2017-11-30 10:26:01           1155         13  0.64705884       \n",
      "styven/iris-dataset                                     Iris dataset                                     1KB  2017-11-04 14:10:12            802          8  0.29411766       \n",
      "arslanali4343/iris-species                              Iris Species                                     2KB  2020-07-02 06:09:09             63         13  0.5625           \n",
      "olgabelitskaya/flower-color-images                      Flower Color Images                             50MB  2020-10-01 22:48:07           8842        161  0.75             \n",
      "naureenmohammad/mmu-iris-dataset                        MMU iris dataset                                30MB  2020-07-25 18:38:33            742         21  0.5625           \n",
      "rutujavaidya/iris-dataset                               Iris Dataset                                     1KB  2021-07-25 17:37:14             66          6  0.4117647        \n",
      "shantanuss/iris-flower-dataset                          IRIS flower dataset                              1KB  2020-01-18 19:43:18            217          3  0.9411765        \n",
      "ashishs0ni/iris-dataset                                 Iris_dataset                                     1KB  2018-08-05 14:26:19            610          7  0.64705884       \n"
     ]
    }
   ],
   "source": [
    "!kaggle datasets list -s 'iris'"
   ]
  },
  {
   "cell_type": "code",
   "execution_count": null,
   "metadata": {},
   "outputs": [],
   "source": []
  },
  {
   "cell_type": "code",
   "execution_count": 8,
   "metadata": {},
   "outputs": [
    {
     "name": "stdout",
     "output_type": "stream",
     "text": [
      "404 - Not Found\n"
     ]
    }
   ],
   "source": [
    "!kaggle datasets download -d 'uciml/iris'"
   ]
  },
  {
   "cell_type": "code",
   "execution_count": null,
   "metadata": {},
   "outputs": [],
   "source": []
  },
  {
   "cell_type": "code",
   "execution_count": null,
   "metadata": {},
   "outputs": [],
   "source": []
  },
  {
   "cell_type": "code",
   "execution_count": null,
   "metadata": {},
   "outputs": [],
   "source": []
  },
  {
   "cell_type": "code",
   "execution_count": null,
   "metadata": {},
   "outputs": [],
   "source": []
  },
  {
   "cell_type": "code",
   "execution_count": null,
   "metadata": {},
   "outputs": [],
   "source": []
  }
 ],
 "metadata": {
  "interpreter": {
   "hash": "36e2b9b711ac9735416cf1b47367cae76e18ef89e5c80235aa81bb46d024b6b9"
  },
  "kernelspec": {
   "display_name": "Python 3.9.7 64-bit ('tf_gpu': conda)",
   "language": "python",
   "name": "python3"
  },
  "language_info": {
   "codemirror_mode": {
    "name": "ipython",
    "version": 3
   },
   "file_extension": ".py",
   "mimetype": "text/x-python",
   "name": "python",
   "nbconvert_exporter": "python",
   "pygments_lexer": "ipython3",
   "version": "3.9.7"
  },
  "orig_nbformat": 4
 },
 "nbformat": 4,
 "nbformat_minor": 2
}
